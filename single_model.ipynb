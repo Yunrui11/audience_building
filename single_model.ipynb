{
 "cells": [
  {
   "cell_type": "code",
   "execution_count": 1,
   "metadata": {},
   "outputs": [
    {
     "name": "stderr",
     "output_type": "stream",
     "text": [
      "C:\\Users\\rbao\\AppData\\Local\\Temp\\2\\ipykernel_9444\\2593380239.py:7: DtypeWarning: Columns (43) have mixed types. Specify dtype option on import or set low_memory=False.\n",
      "  df = pd.read_csv(file_path)\n"
     ]
    }
   ],
   "source": [
    "import pandas as pd\n",
    "\n",
    "# Specify the path to your CSV file\n",
    "file_path = r\"C:\\Deep Root Analytics Dropbox\\Rei Bao\\Tunnl National Audience Refreshes\\2024 Tunnl Nationals\\Q3 July 2024\\Audiences\\Tunnl July 2024 2.0 National Refresh Reference File Corrected.csv\"\n",
    "\n",
    "# Read the CSV file into a DataFrame\n",
    "df = pd.read_csv(file_path)\n"
   ]
  },
  {
   "cell_type": "code",
   "execution_count": 19,
   "metadata": {},
   "outputs": [
    {
     "data": {
      "text/plain": [
       "Index(['person_id', 'dparty_tunnl_7_24', 'rparty_tunnl_7_24',\n",
       "       'amazonmakesworldbetter_tunnl_7_24', 'amazonmakesworldworse_tunnl_7_24',\n",
       "       'ballotharris2024_tunnl_7_24', 'ballottrump2024_tunnl_7_24',\n",
       "       'ballotundecided2024_tunnl_7_24', 'bidenfav_tunnl_7_24',\n",
       "       'bidenunfav_tunnl_7_24', 'congressdemfav_tunnl_7_24',\n",
       "       'congressdemunfav_tunnl_7_24', 'congressrepublicanfav_tunnl_7_24',\n",
       "       'congressrepublicanunfav_tunnl_7_24', 'duelvieweralways_tunnl_7_24',\n",
       "       'duelvieweralwaysoften_tunnl_7_24',\n",
       "       'duelvieweralwaysoftensometimes_tunnl_7_24',\n",
       "       'duelviewerinfrequent_tunnl_7_24', 'easilydistractedno_tunnl_7_24',\n",
       "       'easilydistractedyes_tunnl_7_24', 'ebaymakesworldbetter_tunnl_7_24',\n",
       "       'ebaymakesworldworse_tunnl_7_24', 'googlemakesworldbetter_tunnl_7_24',\n",
       "       'googlemakesworldworse_tunnl_7_24', 'harrisfav_tunnl_7_24',\n",
       "       'harrisunfav_tunnl_7_24', 'lotsixteencleanenergyoppose_tunnl_7_24',\n",
       "       'lotsixteencleanenergysupport_tunnl_7_24',\n",
       "       'netflixmakesworldbetter_tunnl_7_24',\n",
       "       'netflixmakesworldworse_tunnl_7_24',\n",
       "       'notprimememberconsideredprimeday_tunnl_7_24',\n",
       "       'notprimemembernotconsideredmembership_tunnl_7_24',\n",
       "       'primemembernotprimeday_tunnl_7_24', 'primememberprimeday_tunnl_7_24',\n",
       "       'targetmakesworldbetter_tunnl_7_24', 'trumpfav_tunnl_7_24',\n",
       "       'trumpunfav_tunnl_7_24', 'vancefav_tunnl_7_24', 'vanceunfav_tunnl_7_24',\n",
       "       'walmartmakesworldbetter_tunnl_7_24',\n",
       "       'walmartmakesworldworse_tunnl_7_24', 'xmakesworldbetter_tunnl_7_24',\n",
       "       'xmakesworldworse_tunnl_7_24', 'dt_regid', 'age_range', 'sex',\n",
       "       'ethnicity', 'party', 'education_level', 'geography_classification',\n",
       "       'homeowner_or_renter', 'income_level', 'maritalstatus',\n",
       "       'familieswithchildren', 'pd_state_abbreviation', 'pd_dma_name',\n",
       "       'pd_congressional_district_nextelection_name',\n",
       "       'bizaddresssocialissuesno_tunnl_7_24',\n",
       "       'bizaddresssocialissuesyes_tunnl_7_24', 'corpdiversityagree_tunnl_7_24',\n",
       "       'corpdiversitydisagree_tunnl_7_24'],\n",
       "      dtype='object')"
      ]
     },
     "execution_count": 19,
     "metadata": {},
     "output_type": "execute_result"
    }
   ],
   "source": [
    "df.columns"
   ]
  },
  {
   "cell_type": "code",
   "execution_count": 13,
   "metadata": {},
   "outputs": [],
   "source": [
    "## user input functions\n",
    "def building_audience(df, model_1, model_2, Voter = True, default_threshold=None, Joint = False):\n",
    "    if Voter:\n",
    "        df_full = df.dropna(subset=['dt_regid']).copy()  # Make a copy to avoid SettingWithCopyWarning\n",
    "    else:\n",
    "        df_full = df.copy()\n",
    "    if Joint:\n",
    "        df_full['Net'] = df_full[model_1] * df_full[model_2]\n",
    "    else: \n",
    "        df_full['Net'] = df_full[model_1] - df_full[model_2]\n",
    "    if default_threshold is None: \n",
    "        # Calculate the average and standard deviation of the Net column\n",
    "        avg_net = df_full['Net'].mean()\n",
    "        std_net = df_full['Net'].std()\n",
    "        default = round(avg_net + std_net, 4)\n",
    "\n",
    "    # Apply the threshold to filter the audience\n",
    "    filtered_df = df_full[df_full['Net'] >= default]\n",
    "    total_count = len(filtered_df)\n",
    "    \n",
    "    return filtered_df, total_count, default"
   ]
  },
  {
   "cell_type": "code",
   "execution_count": 14,
   "metadata": {},
   "outputs": [
    {
     "name": "stdout",
     "output_type": "stream",
     "text": [
      "0.8273\n"
     ]
    }
   ],
   "source": [
    "filtered_df, total_count, default_threshold = building_audience(df,\"amazonmakesworldbetter_tunnl_7_24\", \"amazonmakesworldworse_tunnl_7_24\", False )\n",
    "print(default_threshold)"
   ]
  },
  {
   "cell_type": "code",
   "execution_count": 8,
   "metadata": {},
   "outputs": [],
   "source": [
    "categ = ['age_range', 'sex', 'ethnicity', 'party', 'education_level', 'homeowner_or_renter', 'geography_classification', 'income_level', 'maritalstatus', 'pd_state_abbreviation']"
   ]
  },
  {
   "cell_type": "code",
   "execution_count": 9,
   "metadata": {},
   "outputs": [],
   "source": [
    "groups = {\n",
    "    'age_range': {\n",
    "        1: '18-24',\n",
    "        2: '25-34',\n",
    "        3: '35-44',\n",
    "        4: '45-54',\n",
    "        5: '55-64',\n",
    "        6: '65-74',\n",
    "        7: '75+'\n",
    "    },\n",
    "    'sex': {\n",
    "        1: 'Male',\n",
    "        2: 'Female'\n",
    "    },\n",
    "    'ethnicity': {\n",
    "        1: 'White',\n",
    "        2: 'Black',\n",
    "        3: 'Hispanic',\n",
    "        4: 'Asian'\n",
    "    },\n",
    "    'party': {\n",
    "        1: 'Strong GOP',\n",
    "        2: 'Steady GOP',\n",
    "        3: 'Volatile GOP',\n",
    "        4: 'Volatile IND',\n",
    "        5: 'Steady IND',\n",
    "        6: 'Volatile DEM',\n",
    "        7: 'Steady DEM',\n",
    "        8: 'Strong DEM'\n",
    "    },\n",
    "    'broad_political_labels' : {\n",
    "        1: 'Republican',\n",
    "        2: 'Republican',\n",
    "        3: 'Republican',\n",
    "        4: 'Independent',\n",
    "        5: 'Independent',\n",
    "        6: 'Democrat',\n",
    "        7: 'Democrat',\n",
    "        8: 'Democrat'\n",
    "    },\n",
    "    'education_level': {\n",
    "        1: 'High School',\n",
    "        2: 'Some College / Technical',\n",
    "        3: 'College Degree',\n",
    "        4: 'Post Grad'\n",
    "    },\n",
    "    'homeowner_or_renter' : {\n",
    "        1: 'Owner',\n",
    "        2: 'Renter'\n",
    "    },\n",
    "    'geography_classification': {\n",
    "        1: 'Rural',\n",
    "        2: 'Suburban',\n",
    "        3: 'Urban'\n",
    "    },\n",
    "    'income_level': {\n",
    "        1: 'Under $30K',\n",
    "        2: '$30K-$50K',\n",
    "        3: '$50K-$75K',\n",
    "        4: '$75k-$100K',\n",
    "        5: '$100K+'\n",
    "    },\n",
    "    'maritalstatus': {\n",
    "        1: 'Married',\n",
    "        2: 'Single'\n",
    "    },\n",
    "    'pd_state_abbreviation' : {\n",
    "        'Northeast': ['CT', 'ME', 'MA', 'NH', 'RI', 'VT', 'NJ', 'NY', 'PA'],\n",
    "        'Midwest': ['IL', 'IN', 'MI', 'OH', 'WI', 'IA', 'KS', 'MN', 'MO', 'NE', 'ND', 'SD'],\n",
    "        'Fringe South': ['DC', 'DE', 'VA', 'WV', 'MD', 'OK', 'FL'],\n",
    "        'Deep South': ['SC', 'GA', 'NC', 'TX', 'AR', 'LA', 'MS', 'AL', 'TN', 'KY'],\n",
    "        'West': ['MT', 'WY', 'CO', 'NM', 'ID', 'UT', 'AZ', 'NV', 'WA', 'OR', 'CA', 'AK', 'HI']\n",
    "    }\n",
    "}\n"
   ]
  },
  {
   "cell_type": "code",
   "execution_count": 10,
   "metadata": {},
   "outputs": [],
   "source": [
    "def audience_insight(var_name, label,  df, total_count):\n",
    "    df = df[df[var_name].isin(label.keys())]\n",
    "    count_by_group = df.groupby(var_name).size()\n",
    "    count_by_group.index = count_by_group.index.map(label)\n",
    "    percent = count_by_group / total_count\n",
    "    \n",
    "    return percent"
   ]
  },
  {
   "cell_type": "code",
   "execution_count": 8,
   "metadata": {},
   "outputs": [],
   "source": [
    "def demographics_data(categ, groups, filtered_df, total_count, default_threshold):\n",
    "    # count total people\n",
    "    num = len(filtered_df)\n",
    "    # count voter/nonvoter\n",
    "    num_nan = filtered_df['dt_regid'].isna().sum()/num\n",
    "    num_with_values = filtered_df['dt_regid'].notna().sum()/num\n",
    "    # Create an empty DataFrame with the specified columns\n",
    "    final_df = pd.DataFrame({\n",
    "    'Features': ['Count', 'Voter', 'NotVoter'],\n",
    "    'Percentage':  [num, num_with_values, num_nan]})\n",
    "\n",
    "    for i in categ[:-1]:\n",
    "        percent = audience_insight(i, groups[i], filtered_df, total_count)\n",
    "        # Convert the Series to a DataFrame\n",
    "        percent_df = percent.reset_index()\n",
    "        # Rename the columns\n",
    "        percent_df.columns = ['Features', 'Percentage']\n",
    "        final_df = pd.concat([final_df, percent_df], ignore_index=True)\n",
    "        if i == 'party':\n",
    "            label = 'broad_political_labels'\n",
    "            extra_percent = audience_insight(i, groups[label], filtered_df, total_count)\n",
    "            extra_percent = extra_percent.groupby(level=0).sum()\n",
    "            # Convert the Series to a DataFrame\n",
    "            percent_df = extra_percent.reset_index()\n",
    "            percent_df.columns = ['Features', 'Percentage']\n",
    "            final_df = pd.concat([final_df, percent_df], ignore_index=True)\n",
    "    var = categ[-1]\n",
    "    # Create a reverse mapping for quick lookup\n",
    "    state_to_region = {state: region for region, states in groups[var].items() for state in states}\n",
    "    percent = audience_insight(var, state_to_region, filtered_df, total_count)\n",
    "    percent = percent.groupby(level=0).sum()\n",
    "    # Convert the Series to a DataFrame\n",
    "    percent_df = percent.reset_index()\n",
    "    percent_df.columns = ['Features', 'Percentage']\n",
    "    final_df = pd.concat([final_df, percent_df], ignore_index=True)\n",
    "    final_df['Percentage'] = final_df['Percentage'].round(3)\n",
    "    final_df['cutpoint'] = default_threshold\n",
    "    \n",
    "    return final_df\n"
   ]
  },
  {
   "cell_type": "code",
   "execution_count": 9,
   "metadata": {},
   "outputs": [],
   "source": [
    "final_df = demographics_data(categ, groups, filtered_df, total_count, default_threshold)"
   ]
  },
  {
   "cell_type": "code",
   "execution_count": 10,
   "metadata": {},
   "outputs": [
    {
     "data": {
      "text/html": [
       "<div>\n",
       "<style scoped>\n",
       "    .dataframe tbody tr th:only-of-type {\n",
       "        vertical-align: middle;\n",
       "    }\n",
       "\n",
       "    .dataframe tbody tr th {\n",
       "        vertical-align: top;\n",
       "    }\n",
       "\n",
       "    .dataframe thead th {\n",
       "        text-align: right;\n",
       "    }\n",
       "</style>\n",
       "<table border=\"1\" class=\"dataframe\">\n",
       "  <thead>\n",
       "    <tr style=\"text-align: right;\">\n",
       "      <th></th>\n",
       "      <th>Features</th>\n",
       "      <th>Percentage</th>\n",
       "      <th>cutpoint</th>\n",
       "    </tr>\n",
       "  </thead>\n",
       "  <tbody>\n",
       "    <tr>\n",
       "      <th>0</th>\n",
       "      <td>Count</td>\n",
       "      <td>532717.000</td>\n",
       "      <td>-0.4077</td>\n",
       "    </tr>\n",
       "    <tr>\n",
       "      <th>1</th>\n",
       "      <td>Voter</td>\n",
       "      <td>0.874</td>\n",
       "      <td>-0.4077</td>\n",
       "    </tr>\n",
       "    <tr>\n",
       "      <th>2</th>\n",
       "      <td>NotVoter</td>\n",
       "      <td>0.126</td>\n",
       "      <td>-0.4077</td>\n",
       "    </tr>\n",
       "    <tr>\n",
       "      <th>3</th>\n",
       "      <td>18-24</td>\n",
       "      <td>0.103</td>\n",
       "      <td>-0.4077</td>\n",
       "    </tr>\n",
       "    <tr>\n",
       "      <th>4</th>\n",
       "      <td>25-34</td>\n",
       "      <td>0.276</td>\n",
       "      <td>-0.4077</td>\n",
       "    </tr>\n",
       "  </tbody>\n",
       "</table>\n",
       "</div>"
      ],
      "text/plain": [
       "   Features  Percentage  cutpoint\n",
       "0     Count  532717.000   -0.4077\n",
       "1     Voter       0.874   -0.4077\n",
       "2  NotVoter       0.126   -0.4077\n",
       "3     18-24       0.103   -0.4077\n",
       "4     25-34       0.276   -0.4077"
      ]
     },
     "execution_count": 10,
     "metadata": {},
     "output_type": "execute_result"
    }
   ],
   "source": [
    "final_df.head()"
   ]
  },
  {
   "cell_type": "code",
   "execution_count": 11,
   "metadata": {},
   "outputs": [],
   "source": [
    "def selected_columns(columns, patterns):\n",
    "    selected_columns = [col for col in columns if patterns in col]\n",
    "    return selected_columns\n"
   ]
  },
  {
   "cell_type": "code",
   "execution_count": 12,
   "metadata": {},
   "outputs": [],
   "source": [
    "def calculate_ave_modelscore(filtered_df, patterns):\n",
    "    column_names = filtered_df.columns.tolist()\n",
    "    selected = selected_columns(column_names, patterns)\n",
    "    models_ave = []\n",
    "    for i in selected: \n",
    "        models_ave.append(filtered_df[i].mean().round(3))\n",
    "    model_df = pd.DataFrame({\n",
    "    'model_name': selected,\n",
    "    'average':  models_ave})\n",
    "\n",
    "    return model_df"
   ]
  },
  {
   "cell_type": "code",
   "execution_count": 13,
   "metadata": {},
   "outputs": [],
   "source": [
    "model_df = calculate_ave_modelscore(filtered_df, 'tunnl')"
   ]
  },
  {
   "cell_type": "code",
   "execution_count": 14,
   "metadata": {},
   "outputs": [],
   "source": [
    "combined_df = pd.concat([final_df, model_df], axis=1)"
   ]
  },
  {
   "cell_type": "code",
   "execution_count": 16,
   "metadata": {},
   "outputs": [
    {
     "data": {
      "text/html": [
       "<div>\n",
       "<style scoped>\n",
       "    .dataframe tbody tr th:only-of-type {\n",
       "        vertical-align: middle;\n",
       "    }\n",
       "\n",
       "    .dataframe tbody tr th {\n",
       "        vertical-align: top;\n",
       "    }\n",
       "\n",
       "    .dataframe thead th {\n",
       "        text-align: right;\n",
       "    }\n",
       "</style>\n",
       "<table border=\"1\" class=\"dataframe\">\n",
       "  <thead>\n",
       "    <tr style=\"text-align: right;\">\n",
       "      <th></th>\n",
       "      <th>Features</th>\n",
       "      <th>Percentage</th>\n",
       "      <th>cutpoint</th>\n",
       "      <th>model_name</th>\n",
       "      <th>average</th>\n",
       "    </tr>\n",
       "  </thead>\n",
       "  <tbody>\n",
       "    <tr>\n",
       "      <th>43</th>\n",
       "      <td>Deep South</td>\n",
       "      <td>0.120</td>\n",
       "      <td>-0.4077</td>\n",
       "      <td>bizaddresssocialissuesyes_tunnl_7_24</td>\n",
       "      <td>0.503</td>\n",
       "    </tr>\n",
       "    <tr>\n",
       "      <th>44</th>\n",
       "      <td>Fringe South</td>\n",
       "      <td>0.143</td>\n",
       "      <td>-0.4077</td>\n",
       "      <td>corpdiversityagree_tunnl_7_24</td>\n",
       "      <td>0.650</td>\n",
       "    </tr>\n",
       "    <tr>\n",
       "      <th>45</th>\n",
       "      <td>Midwest</td>\n",
       "      <td>0.223</td>\n",
       "      <td>-0.4077</td>\n",
       "      <td>corpdiversitydisagree_tunnl_7_24</td>\n",
       "      <td>0.243</td>\n",
       "    </tr>\n",
       "    <tr>\n",
       "      <th>46</th>\n",
       "      <td>Northeast</td>\n",
       "      <td>0.212</td>\n",
       "      <td>-0.4077</td>\n",
       "      <td>NaN</td>\n",
       "      <td>NaN</td>\n",
       "    </tr>\n",
       "    <tr>\n",
       "      <th>47</th>\n",
       "      <td>West</td>\n",
       "      <td>0.301</td>\n",
       "      <td>-0.4077</td>\n",
       "      <td>NaN</td>\n",
       "      <td>NaN</td>\n",
       "    </tr>\n",
       "  </tbody>\n",
       "</table>\n",
       "</div>"
      ],
      "text/plain": [
       "        Features  Percentage  cutpoint                            model_name  \\\n",
       "43    Deep South       0.120   -0.4077  bizaddresssocialissuesyes_tunnl_7_24   \n",
       "44  Fringe South       0.143   -0.4077         corpdiversityagree_tunnl_7_24   \n",
       "45       Midwest       0.223   -0.4077      corpdiversitydisagree_tunnl_7_24   \n",
       "46     Northeast       0.212   -0.4077                                   NaN   \n",
       "47          West       0.301   -0.4077                                   NaN   \n",
       "\n",
       "    average  \n",
       "43    0.503  \n",
       "44    0.650  \n",
       "45    0.243  \n",
       "46      NaN  \n",
       "47      NaN  "
      ]
     },
     "execution_count": 16,
     "metadata": {},
     "output_type": "execute_result"
    }
   ],
   "source": [
    "combined_df.tail()"
   ]
  },
  {
   "cell_type": "code",
   "execution_count": 22,
   "metadata": {},
   "outputs": [],
   "source": [
    "# export to an excel \n",
    "combined_df.to_excel('combined_dataframe.xlsx', index=False)"
   ]
  }
 ],
 "metadata": {
  "kernelspec": {
   "display_name": "base",
   "language": "python",
   "name": "python3"
  },
  "language_info": {
   "codemirror_mode": {
    "name": "ipython",
    "version": 3
   },
   "file_extension": ".py",
   "mimetype": "text/x-python",
   "name": "python",
   "nbconvert_exporter": "python",
   "pygments_lexer": "ipython3",
   "version": "3.11.7"
  }
 },
 "nbformat": 4,
 "nbformat_minor": 2
}
