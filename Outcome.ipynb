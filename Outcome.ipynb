{
 "cells": [
  {
   "cell_type": "code",
   "execution_count": 1,
   "metadata": {},
   "outputs": [],
   "source": [
    "import pandas as pd\n",
    "import multiple_models as mm"
   ]
  },
  {
   "cell_type": "code",
   "execution_count": 2,
   "metadata": {},
   "outputs": [],
   "source": [
    "names = [\n",
    "    \"Pro Corporate Diversity Action\",\n",
    "    \"Anti Corporate Diversity Action\",\n",
    "    \"Businesses Active Role in Social Issues Yes\",\n",
    "    \"Businesses Active Role in Social Issues No\",\n",
    "    \"Amazon Makes World Better\",\n",
    "    \"Amazon Makes World Worse\",\n",
    "    \"Walmart Makes World Better\",\n",
    "    \"Walmart Makes World Worse\",\n",
    "]\n"
   ]
  },
  {
   "cell_type": "code",
   "execution_count": 3,
   "metadata": {},
   "outputs": [],
   "source": [
    "pairs = [\n",
    "    (\"corpdiversityagree_tunnl_7_24\", \"corpdiversitydisagree_tunnl_7_24\"),\n",
    "    (\"corpdiversitydisagree_tunnl_7_24\", \"corpdiversityagree_tunnl_7_24\"),\n",
    "    (\"bizaddresssocialissuesyes_tunnl_7_24\", \"bizaddresssocialissuesno_tunnl_7_24\"),\n",
    "    (\"bizaddresssocialissuesno_tunnl_7_24\", \"bizaddresssocialissuesyes_tunnl_7_24\"),\n",
    "    (\"amazonmakesworldbetter_tunnl_7_24\", \"amazonmakesworldworse_tunnl_7_24\"),\n",
    "    (\"amazonmakesworldworse_tunnl_7_24\", \"amazonmakesworldbetter_tunnl_7_24\"),\n",
    "    (\"walmartmakesworldbetter_tunnl_7_24\", \"walmartmakesworldworse_tunnl_7_24\"),\n",
    "    (\"walmartmakesworldworse_tunnl_7_24\", \"walmartmakesworldbetter_tunnl_7_24\"),\n",
    "]\n"
   ]
  },
  {
   "cell_type": "code",
   "execution_count": 4,
   "metadata": {},
   "outputs": [],
   "source": [
    "file_path = r\"C:\\Deep Root Analytics Dropbox\\Rei Bao\\Tunnl National Audience Refreshes\\2024 Tunnl Nationals\\Q3 July 2024\\Audiences\\Tunnl July 2024 2.0 National Refresh Reference File Corrected.csv\""
   ]
  },
  {
   "cell_type": "code",
   "execution_count": 5,
   "metadata": {},
   "outputs": [
    {
     "name": "stderr",
     "output_type": "stream",
     "text": [
      "c:\\Users\\rbao\\Desktop\\audience_insight\\multiple_models.py:81: DtypeWarning: Columns (43) have mixed types. Specify dtype option on import or set low_memory=False.\n",
      "  df = pd.read_csv(file_path)\n"
     ]
    }
   ],
   "source": [
    "mm.input_info(pairs, file_path, names, Voter = False, default_threshold=None, Joint = False, patterns = \"tunnl\")"
   ]
  }
 ],
 "metadata": {
  "kernelspec": {
   "display_name": "base",
   "language": "python",
   "name": "python3"
  },
  "language_info": {
   "codemirror_mode": {
    "name": "ipython",
    "version": 3
   },
   "file_extension": ".py",
   "mimetype": "text/x-python",
   "name": "python",
   "nbconvert_exporter": "python",
   "pygments_lexer": "ipython3",
   "version": "3.11.7"
  }
 },
 "nbformat": 4,
 "nbformat_minor": 2
}
